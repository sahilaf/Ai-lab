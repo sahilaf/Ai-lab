{
 "cells": [
  {
   "cell_type": "markdown",
   "metadata": {
    "id": "OpaOeL0DY_Vn"
   },
   "source": [
    "# Assignment"
   ]
  },
  {
   "cell_type": "markdown",
   "metadata": {
    "id": "glN6oPxuZHa3"
   },
   "source": [
    "## Imports"
   ]
  },
  {
   "cell_type": "code",
   "execution_count": 2,
   "metadata": {
    "id": "Xq0rQWXEYuEp"
   },
   "outputs": [],
   "source": [
    "import math\n",
    "import csv\n",
    "from collections import defaultdict\n",
    "from queue import PriorityQueue"
   ]
  },
  {
   "cell_type": "markdown",
   "metadata": {
    "id": "1qpbE1rHZVZg"
   },
   "source": [
    "# Read Files"
   ]
  },
  {
   "cell_type": "code",
   "execution_count": 18,
   "metadata": {
    "colab": {
     "base_uri": "https://localhost:8080/"
    },
    "id": "fJ1dfvoZZb0U",
    "outputId": "5afcd28c-99c5-4d0a-a9ae-34639ff05cc5"
   },
   "outputs": [
    {
     "name": "stdout",
     "output_type": "stream",
     "text": [
      "Coordinates:\n",
      "{'Sun': (0, 0, 0), 'Proxima Centauri': (176, -406, -49), 'Lalande 21185': (552, -473, -38), 'Lacaille 9352': (-848, -540, 0), \"Luyten's Star\": (-849, -542, 0), 'YZ Ceti': (-280, 1568, 40), 'Tau Ceti': (-1389, -2353, 182), 'Gliese 1061': (-2240, -942, 838), 'Wolf 1061': (-863, 1956, -409), 'Gliese 876': (2378, -34, -288), '82 G. Eridani': (1965, -2162, -12), 'Gliese 581': (-86, 2020, -48), 'Gliese 667 C': (1874, 4359, -33), 'HD 219134': (-1371, -5607, -52), '61 Virginis': (-1879, -5265, -239), 'Gliese 433': (5126, -1020, -159), 'Gliese 357': (-1342, -5144, 51), 'TRAPPIST-1': (2583, -9736, 67), '55 Cancri': (16781, 10603, -178), 'HD 69830': (29087, -6996, -523), 'Upsilon Andromedae': (12339, -31372, -164)}\n",
      "Adjacency list:\n",
      "defaultdict(<class 'list'>, {'Sun': [('Proxima Centauri', 643), ('Lalande 21185', 1059), ('Lacaille 9352', 1194), (\"Luyten's Star\", 1251), ('YZ Ceti', 1766), ('Tau Ceti', 3042), ('Gliese 1061', 2773), ('Wolf 1061', 2501), ('Gliese 876', 2710), ('82 G. Eridani', 3247), ('Gliese 581', 2306)], 'Proxima Centauri': [('Sun', 711), ('Lalande 21185', 558), ('Lacaille 9352', 1357), (\"Luyten's Star\", 1351), ('YZ Ceti', 2273), ('Tau Ceti', 2719), ('Gliese 1061', 2940), ('Wolf 1061', 2890), ('Gliese 876', 2490), ('82 G. Eridani', 2730), ('Gliese 581', 2751)], 'Lalande 21185': [('Sun', 988), ('Proxima Centauri', 709), ('Lacaille 9352', 1595), (\"Luyten's Star\", 1640), ('YZ Ceti', 2472), ('Tau Ceti', 2902), ('Gliese 1061', 3138), ('Wolf 1061', 3127), ('Gliese 876', 2070), ('82 G. Eridani', 2368), ('Gliese 581', 2858)], 'Lacaille 9352': [('Sun', 1203), ('Proxima Centauri', 1357), ('Lalande 21185', 1657), (\"Luyten's Star\", 337), ('YZ Ceti', 2511), ('Tau Ceti', 2095), ('Gliese 1061', 1967), ('Wolf 1061', 2751), ('Gliese 876', 3460), ('82 G. Eridani', 3489), ('Gliese 581', 2984)], \"Luyten's Star\": [('Sun', 1312), ('Proxima Centauri', 1239), ('Lalande 21185', 1677), ('Lacaille 9352', 293), ('YZ Ceti', 2531), ('Tau Ceti', 2212), ('Gliese 1061', 2015), ('Wolf 1061', 2829), ('Gliese 581', 2913)], 'YZ Ceti': [('Sun', 1791), ('Proxima Centauri', 2178), ('Lalande 21185', 2511), ('Lacaille 9352', 2519), (\"Luyten's Star\", 2351), ('Gliese 1061', 3498), ('Wolf 1061', 1156), ('Gliese 876', 3403), ('Gliese 581', 698)], 'Tau Ceti': [('Sun', 3021), ('Proxima Centauri', 2750), ('Lalande 21185', 2935), ('Lacaille 9352', 2250), (\"Luyten's Star\", 2151), ('Gliese 1061', 1961), ('HD 219134', 3461), ('61 Virginis', 3320), ('Gliese 357', 2985)], 'Gliese 1061': [('Sun', 2762), ('Proxima Centauri', 2906), ('Lalande 21185', 3116), ('Lacaille 9352', 1881), (\"Luyten's Star\", 1837), ('YZ Ceti', 3475), ('Tau Ceti', 1988)], 'Wolf 1061': [('Sun', 2511), ('Proxima Centauri', 2932), ('Lalande 21185', 3166), ('Lacaille 9352', 2730), (\"Luyten's Star\", 2736), ('YZ Ceti', 1060), ('Gliese 581', 1162)], 'Gliese 876': [('Sun', 2722), ('Proxima Centauri', 2446), ('Lalande 21185', 2198), ('YZ Ceti', 3373), ('82 G. Eridani', 2531), ('Gliese 581', 3444), ('Gliese 433', 3108)], '82 G. Eridani': [('Sun', 3130), ('Proxima Centauri', 2697), ('Lalande 21185', 2545), ('Lacaille 9352', 3427), (\"Luyten's Star\", 3498), ('Gliese 876', 2421)], 'Gliese 581': [('Sun', 2344), ('Proxima Centauri', 2604), ('Lalande 21185', 2835), ('Lacaille 9352', 3017), (\"Luyten's Star\", 3001), ('YZ Ceti', 672), ('Wolf 1061', 1047), ('Gliese 876', 3385), ('Gliese 667 C', 3271)], 'Gliese 667 C': [('Gliese 581', 3336)], 'HD 219134': [('61 Virginis', 971), ('Gliese 357', 658)], '61 Virginis': [('Tau Ceti', 3280), ('HD 219134', 847), ('Gliese 357', 780)], 'Gliese 433': [('Gliese 876', 3224)], 'Gliese 357': [('Tau Ceti', 2960), ('HD 219134', 669), ('61 Virginis', 828)], 'HD 69830': [('Upsilon Andromedae', 30100)], '55 Cancri': [('HD 69830', 21977)], 'TRAPPIST-1': [('55 Cancri', 26060), ('Sun', 10480), ('Proxima Centauri', 9995), ('Lalande 21185', 9964), ('Lacaille 9352', 10144), (\"Luyten's Star\", 10284), ('YZ Ceti', 12128), ('Tau Ceti', 8760), ('Gliese 1061', 10508), ('Wolf 1061', 12662), ('Gliese 876', 10178), ('82 G. Eridani', 8036), ('Gliese 581', 12373), ('Gliese 667 C', 14575), ('HD 219134', 6178), ('61 Virginis', 6722), ('Gliese 433', 9349), ('Gliese 357', 6306)]})\n"
     ]
    }
   ],
   "source": [
    "COORDINATES_FILE = \"Coordinates.csv\"\n",
    "DISTANCE_FILE  = \"distances.csv\"\n",
    "\n",
    "coordinates = {}\n",
    "adjacency_list = defaultdict(list)\n",
    "\n",
    "with open(COORDINATES_FILE, 'r') as file:\n",
    "    reader = csv.reader(file)\n",
    "    next(reader)\n",
    "    for star_name, x, y, z in reader:\n",
    "        coordinates[star_name] = (int(x), int(y), int(z))\n",
    "\n",
    "with open(DISTANCE_FILE, \"r\") as file:\n",
    "    reader = csv.reader(file)\n",
    "    for source, destination, dist in reader:\n",
    "        adjacency_list[source].append((destination, int(dist)))\n",
    "\n",
    "print(\"Coordinates:\")\n",
    "print(coordinates)\n",
    "print(\"Adjacency list:\")\n",
    "print(adjacency_list)"
   ]
  },
  {
   "cell_type": "markdown",
   "metadata": {
    "id": "eCfSUxUYbFHr"
   },
   "source": [
    "# **Graph class**"
   ]
  },
  {
   "cell_type": "code",
   "execution_count": 12,
   "metadata": {
    "id": "JwI9F1djaU4W"
   },
   "outputs": [],
   "source": [
    "class Graph:\n",
    "    def __init__(self):\n",
    "        self.graph = dict()\n",
    "\n",
    "    def printGraph(self):\n",
    "        for source, destination in self.graph.items():\n",
    "            print(f\"{source}-->{destination}\")\n",
    "\n",
    "    def AStar(self, start, goal, heuristic):\n",
    "        pq = PriorityQueue()\n",
    "        f_score = {start: 0 + heuristic[start]}\n",
    "        pq.put((f_score[start], start))\n",
    "\n",
    "        g_score = {start: 0}  # track actual cost\n",
    "        parent = {start: None}  # track parent of each node\n",
    "        visited = set()  # track visited node\n",
    "        while not pq.empty():\n",
    "            current_node = pq.get()[1]\n",
    "\n",
    "            if current_node == goal:\n",
    "                return self.__getPath(parent, current_node), g_score[goal]  # Return path and cost\n",
    "            if current_node in visited:\n",
    "                continue\n",
    "            visited.add(current_node)\n",
    "            for neighbor in self.graph[current_node]:\n",
    "                neighbor_node, neighbor_cost = neighbor\n",
    "                if neighbor_node not in visited:\n",
    "                    tentative_g_score = g_score[current_node] + neighbor_cost\n",
    "                    if neighbor_node not in g_score or tentative_g_score < g_score[neighbor_node]:\n",
    "                        parent[neighbor_node] = current_node\n",
    "                        g_score[neighbor_node] = tentative_g_score\n",
    "                        f_score[neighbor_node] = g_score[neighbor_node] + heuristic[neighbor_node]\n",
    "                        pq.put((f_score[neighbor_node], neighbor_node))\n",
    "                        print(f\"Node: {neighbor_node} parent: {parent[neighbor_node]} f: {f_score[neighbor_node]}\")\n",
    "\n",
    "        return None, float('inf')  # Return None path and infinite cost if no path is found\n",
    "\n",
    "    def Dijkstra(self, start, goal):\n",
    "        pq = PriorityQueue()\n",
    "        pq.put((0, start))\n",
    "        g_score = {start: 0}  # track actual cost\n",
    "        parent = {start: None}  # track parent of each node\n",
    "        visited = set()  # track visited node\n",
    "\n",
    "        while not pq.empty():\n",
    "            current_cost, current_node = pq.get()\n",
    "\n",
    "            if current_node == goal:\n",
    "                return self.__getPath(parent, current_node), g_score[goal]  # Return path and cost\n",
    "            if current_node in visited:\n",
    "                continue\n",
    "            visited.add(current_node)\n",
    "            for neighbor in self.graph[current_node]:\n",
    "                neighbor_node, neighbor_cost = neighbor\n",
    "                if neighbor_node not in visited:\n",
    "                    tentative_g_score = g_score[current_node] + neighbor_cost\n",
    "                    if neighbor_node not in g_score or tentative_g_score < g_score[neighbor_node]:\n",
    "                        parent[neighbor_node] = current_node\n",
    "                        g_score[neighbor_node] = tentative_g_score\n",
    "                        pq.put((g_score[neighbor_node], neighbor_node))\n",
    "                        print(f\"Node: {neighbor_node} parent: {parent[neighbor_node]} f: {g_score[neighbor_node]}\")\n",
    "\n",
    "        return None, float('inf')  # Return None path and infinite cost if no path is found\n",
    "\n",
    "    def __getPath(self, parent, node):\n",
    "        path = [node]\n",
    "        current_node = node\n",
    "\n",
    "        while parent[current_node] is not None:\n",
    "            current_node = parent[current_node]\n",
    "            path.append(current_node)\n",
    "\n",
    "        return list(reversed(path))"
   ]
  },
  {
   "cell_type": "markdown",
   "metadata": {
    "id": "WKs4ZsoSZ8jM"
   },
   "source": [
    "# **Heuristic function**"
   ]
  },
  {
   "cell_type": "code",
   "execution_count": 13,
   "metadata": {
    "id": "Zr0d929kZ9Cc"
   },
   "outputs": [],
   "source": [
    "def euclidean_distance(point1, point2):\n",
    "    x1, y1, z1 = point1\n",
    "    x2, y2, z2 = point2\n",
    "    return math.sqrt((x2 - x1)**2 + (y2 - y1)**2 + (z2 - z1)**2)\n"
   ]
  },
  {
   "cell_type": "markdown",
   "metadata": {
    "id": "LGJi6ugrbNqF"
   },
   "source": [
    "# Calculate heuristic and storing it in a **Dictionary**"
   ]
  },
  {
   "cell_type": "code",
   "execution_count": 14,
   "metadata": {
    "colab": {
     "base_uri": "https://localhost:8080/"
    },
    "id": "se9jPrD-aFBO",
    "outputId": "ee777646-658a-4444-eb86-9f034173c56e"
   },
   "outputs": [
    {
     "name": "stdout",
     "output_type": "stream",
     "text": [
      "{'Sun': 19850.87539631439, 'Proxima Centauri': 19923.371878274018, 'Lalande 21185': 19648.862995094652, 'Lacaille 9352': 20856.168727740962, \"Luyten's Star\": 20858.082582059167, 'YZ Ceti': 19306.902133693016, 'Tau Ceti': 22318.970316750725, 'Gliese 1061': 22273.70023143887, 'Wolf 1061': 19650.310582787235, 'Gliese 876': 17905.425937407912, '82 G. Eridani': 19557.265580852556, 'Gliese 581': 18925.6566068393, 'Gliese 667 C': 16162.524864636713, 'HD 219134': 24336.70232385645, '61 Virginis': 24494.74933531674, 'Gliese 433': 16460.05817122163, 'Gliese 357': 24009.655953386755, 'TRAPPIST-1': 24805.60722901175, '55 Cancri': 0.0, 'HD 69830': 21477.46404955669, 'Upsilon Andromedae': 42209.38503461049}\n"
     ]
    }
   ],
   "source": [
    "hn = {star: euclidean_distance(coordinates[star], coordinates[\"55 Cancri\"]) for star in coordinates}\n",
    "print(hn)"
   ]
  },
  {
   "cell_type": "markdown",
   "metadata": {
    "id": "-7B0BmQLbnvA"
   },
   "source": [
    "# **Creating Graph and Print**"
   ]
  },
  {
   "cell_type": "code",
   "execution_count": 15,
   "metadata": {
    "colab": {
     "base_uri": "https://localhost:8080/"
    },
    "id": "O4AoXCB5ao5j",
    "outputId": "1edbdb09-dc12-4372-b08f-acb7e7db5362"
   },
   "outputs": [
    {
     "name": "stdout",
     "output_type": "stream",
     "text": [
      "Sun-->[('Proxima Centauri', 643), ('Lalande 21185', 1059), ('Lacaille 9352', 1194), (\"Luyten's Star\", 1251), ('YZ Ceti', 1766), ('Tau Ceti', 3042), ('Gliese 1061', 2773), ('Wolf 1061', 2501), ('Gliese 876', 2710), ('82 G. Eridani', 3247), ('Gliese 581', 2306)]\n",
      "Proxima Centauri-->[('Sun', 711), ('Lalande 21185', 558), ('Lacaille 9352', 1357), (\"Luyten's Star\", 1351), ('YZ Ceti', 2273), ('Tau Ceti', 2719), ('Gliese 1061', 2940), ('Wolf 1061', 2890), ('Gliese 876', 2490), ('82 G. Eridani', 2730), ('Gliese 581', 2751)]\n",
      "Lalande 21185-->[('Sun', 988), ('Proxima Centauri', 709), ('Lacaille 9352', 1595), (\"Luyten's Star\", 1640), ('YZ Ceti', 2472), ('Tau Ceti', 2902), ('Gliese 1061', 3138), ('Wolf 1061', 3127), ('Gliese 876', 2070), ('82 G. Eridani', 2368), ('Gliese 581', 2858)]\n",
      "Lacaille 9352-->[('Sun', 1203), ('Proxima Centauri', 1357), ('Lalande 21185', 1657), (\"Luyten's Star\", 337), ('YZ Ceti', 2511), ('Tau Ceti', 2095), ('Gliese 1061', 1967), ('Wolf 1061', 2751), ('Gliese 876', 3460), ('82 G. Eridani', 3489), ('Gliese 581', 2984)]\n",
      "Luyten's Star-->[('Sun', 1312), ('Proxima Centauri', 1239), ('Lalande 21185', 1677), ('Lacaille 9352', 293), ('YZ Ceti', 2531), ('Tau Ceti', 2212), ('Gliese 1061', 2015), ('Wolf 1061', 2829), ('Gliese 581', 2913)]\n",
      "YZ Ceti-->[('Sun', 1791), ('Proxima Centauri', 2178), ('Lalande 21185', 2511), ('Lacaille 9352', 2519), (\"Luyten's Star\", 2351), ('Gliese 1061', 3498), ('Wolf 1061', 1156), ('Gliese 876', 3403), ('Gliese 581', 698)]\n",
      "Tau Ceti-->[('Sun', 3021), ('Proxima Centauri', 2750), ('Lalande 21185', 2935), ('Lacaille 9352', 2250), (\"Luyten's Star\", 2151), ('Gliese 1061', 1961), ('HD 219134', 3461), ('61 Virginis', 3320), ('Gliese 357', 2985)]\n",
      "Gliese 1061-->[('Sun', 2762), ('Proxima Centauri', 2906), ('Lalande 21185', 3116), ('Lacaille 9352', 1881), (\"Luyten's Star\", 1837), ('YZ Ceti', 3475), ('Tau Ceti', 1988)]\n",
      "Wolf 1061-->[('Sun', 2511), ('Proxima Centauri', 2932), ('Lalande 21185', 3166), ('Lacaille 9352', 2730), (\"Luyten's Star\", 2736), ('YZ Ceti', 1060), ('Gliese 581', 1162)]\n",
      "Gliese 876-->[('Sun', 2722), ('Proxima Centauri', 2446), ('Lalande 21185', 2198), ('YZ Ceti', 3373), ('82 G. Eridani', 2531), ('Gliese 581', 3444), ('Gliese 433', 3108)]\n",
      "82 G. Eridani-->[('Sun', 3130), ('Proxima Centauri', 2697), ('Lalande 21185', 2545), ('Lacaille 9352', 3427), (\"Luyten's Star\", 3498), ('Gliese 876', 2421)]\n",
      "Gliese 581-->[('Sun', 2344), ('Proxima Centauri', 2604), ('Lalande 21185', 2835), ('Lacaille 9352', 3017), (\"Luyten's Star\", 3001), ('YZ Ceti', 672), ('Wolf 1061', 1047), ('Gliese 876', 3385), ('Gliese 667 C', 3271)]\n",
      "Gliese 667 C-->[('Gliese 581', 3336)]\n",
      "HD 219134-->[('61 Virginis', 971), ('Gliese 357', 658)]\n",
      "61 Virginis-->[('Tau Ceti', 3280), ('HD 219134', 847), ('Gliese 357', 780)]\n",
      "Gliese 433-->[('Gliese 876', 3224)]\n",
      "Gliese 357-->[('Tau Ceti', 2960), ('HD 219134', 669), ('61 Virginis', 828)]\n",
      "HD 69830-->[('Upsilon Andromedae', 30100)]\n",
      "55 Cancri-->[('HD 69830', 21977)]\n",
      "TRAPPIST-1-->[('55 Cancri', 26060), ('Sun', 10480), ('Proxima Centauri', 9995), ('Lalande 21185', 9964), ('Lacaille 9352', 10144), (\"Luyten's Star\", 10284), ('YZ Ceti', 12128), ('Tau Ceti', 8760), ('Gliese 1061', 10508), ('Wolf 1061', 12662), ('Gliese 876', 10178), ('82 G. Eridani', 8036), ('Gliese 581', 12373), ('Gliese 667 C', 14575), ('HD 219134', 6178), ('61 Virginis', 6722), ('Gliese 433', 9349), ('Gliese 357', 6306)]\n"
     ]
    }
   ],
   "source": [
    "g = Graph()\n",
    "g.graph = adjacency_list\n",
    "g.printGraph()"
   ]
  },
  {
   "cell_type": "markdown",
   "metadata": {
    "id": "Mgav87GvbxqI"
   },
   "source": [
    "# Calling A* search algorithm from the graph class and printing the path and total cost\n",
    "\n",
    "# Source= TRAPPIST-1\n",
    "# Destination= 55 Cancri"
   ]
  },
  {
   "cell_type": "code",
   "execution_count": 16,
   "metadata": {
    "colab": {
     "base_uri": "https://localhost:8080/"
    },
    "id": "CZyU1HyparbN",
    "outputId": "f7de07b9-c20e-4179-9269-dbf5211399e8"
   },
   "outputs": [
    {
     "name": "stdout",
     "output_type": "stream",
     "text": [
      "Node: 55 Cancri parent: TRAPPIST-1 f: 26060.0\n",
      "Node: Sun parent: TRAPPIST-1 f: 30330.87539631439\n",
      "Node: Proxima Centauri parent: TRAPPIST-1 f: 29918.371878274018\n",
      "Node: Lalande 21185 parent: TRAPPIST-1 f: 29612.862995094652\n",
      "Node: Lacaille 9352 parent: TRAPPIST-1 f: 31000.168727740962\n",
      "Node: Luyten's Star parent: TRAPPIST-1 f: 31142.082582059167\n",
      "Node: YZ Ceti parent: TRAPPIST-1 f: 31434.902133693016\n",
      "Node: Tau Ceti parent: TRAPPIST-1 f: 31078.970316750725\n",
      "Node: Gliese 1061 parent: TRAPPIST-1 f: 32781.70023143887\n",
      "Node: Wolf 1061 parent: TRAPPIST-1 f: 32312.310582787235\n",
      "Node: Gliese 876 parent: TRAPPIST-1 f: 28083.425937407912\n",
      "Node: 82 G. Eridani parent: TRAPPIST-1 f: 27593.265580852556\n",
      "Node: Gliese 581 parent: TRAPPIST-1 f: 31298.6566068393\n",
      "Node: Gliese 667 C parent: TRAPPIST-1 f: 30737.52486463671\n",
      "Node: HD 219134 parent: TRAPPIST-1 f: 30514.70232385645\n",
      "Node: 61 Virginis parent: TRAPPIST-1 f: 31216.74933531674\n",
      "Node: Gliese 433 parent: TRAPPIST-1 f: 25809.05817122163\n",
      "Node: Gliese 357 parent: TRAPPIST-1 f: 30315.655953386755\n",
      "A* Path: ['TRAPPIST-1', '55 Cancri']\n",
      "A* Total Cost: 26060\n"
     ]
    }
   ],
   "source": [
    "path_astar, total_cost_astar = g.AStar('TRAPPIST-1', '55 Cancri', hn)\n",
    "print(f\"A* Path: {path_astar}\")\n",
    "print(f\"A* Total Cost: {total_cost_astar}\")"
   ]
  },
  {
   "cell_type": "markdown",
   "metadata": {
    "id": "NbuIIefxdQC4"
   },
   "source": [
    "# Calling Dijkstra search algorithm from the graph class and printing the path and total cost\n",
    "\n",
    "# **Source= TRAPPIST-1**\n",
    "# **Destination= 55 Cancri**"
   ]
  },
  {
   "cell_type": "code",
   "execution_count": null,
   "metadata": {
    "colab": {
     "base_uri": "https://localhost:8080/"
    },
    "id": "e3SWe0Wuaxx0",
    "outputId": "7ab7bc54-26e1-4665-d065-db3e1b16705d"
   },
   "outputs": [
    {
     "name": "stdout",
     "output_type": "stream",
     "text": [
      "Node: 55 Cancri parent: TRAPPIST-1 f: 26060\n",
      "Node: Sun parent: TRAPPIST-1 f: 10480\n",
      "Node: Proxima Centauri parent: TRAPPIST-1 f: 9995\n",
      "Node: Lalande 21185 parent: TRAPPIST-1 f: 9964\n",
      "Node: Lacaille 9352 parent: TRAPPIST-1 f: 10144\n",
      "Node: Luyten's Star parent: TRAPPIST-1 f: 10284\n",
      "Node: YZ Ceti parent: TRAPPIST-1 f: 12128\n",
      "Node: Tau Ceti parent: TRAPPIST-1 f: 8760\n",
      "Node: Gliese 1061 parent: TRAPPIST-1 f: 10508\n",
      "Node: Wolf 1061 parent: TRAPPIST-1 f: 12662\n",
      "Node: Gliese 876 parent: TRAPPIST-1 f: 10178\n",
      "Node: 82 G. Eridani parent: TRAPPIST-1 f: 8036\n",
      "Node: Gliese 581 parent: TRAPPIST-1 f: 12373\n",
      "Node: Gliese 667 C parent: TRAPPIST-1 f: 14575\n",
      "Node: HD 219134 parent: TRAPPIST-1 f: 6178\n",
      "Node: 61 Virginis parent: TRAPPIST-1 f: 6722\n",
      "Node: Gliese 433 parent: TRAPPIST-1 f: 9349\n",
      "Node: Gliese 357 parent: TRAPPIST-1 f: 6306\n",
      "Dijkstra Path: ['TRAPPIST-1', '55 Cancri']\n",
      "Dijkstra Total Cost: 26060\n"
     ]
    }
   ],
   "source": [
    "path_dijkstra, total_cost_dijkstra = g.Dijkstra('Sun', '55 Cancri')\n",
    "print(f\"Dijkstra Path: {path_dijkstra}\")\n",
    "print(f\"Dijkstra Total Cost: {total_cost_dijkstra}\")"
   ]
  }
 ],
 "metadata": {
  "colab": {
   "provenance": [],
   "toc_visible": true
  },
  "kernelspec": {
   "display_name": "Python 3",
   "name": "python3"
  },
  "language_info": {
   "name": "python"
  }
 },
 "nbformat": 4,
 "nbformat_minor": 0
}
