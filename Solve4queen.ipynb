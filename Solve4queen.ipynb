{
  "nbformat": 4,
  "nbformat_minor": 0,
  "metadata": {
    "colab": {
      "provenance": [],
      "include_colab_link": true
    },
    "kernelspec": {
      "name": "python3",
      "display_name": "Python 3"
    },
    "language_info": {
      "name": "python"
    }
  },
  "cells": [
    {
      "cell_type": "markdown",
      "metadata": {
        "id": "view-in-github",
        "colab_type": "text"
      },
      "source": [
        "<a href=\"https://colab.research.google.com/github/sahilaf/Ai-lab/blob/main/Solve4queen.ipynb\" target=\"_parent\"><img src=\"https://colab.research.google.com/assets/colab-badge.svg\" alt=\"Open In Colab\"/></a>"
      ]
    },
    {
      "cell_type": "markdown",
      "source": [
        "## N-Queens problem"
      ],
      "metadata": {
        "id": "k5AfQX3BxDYy"
      }
    },
    {
      "cell_type": "code",
      "source": [
        "import numpy as np"
      ],
      "metadata": {
        "id": "il63GLAhR6Bj"
      },
      "execution_count": 1,
      "outputs": []
    },
    {
      "cell_type": "code",
      "source": [
        "class Queen:\n",
        "  def __init__(self,N):\n",
        "    self.N = N\n",
        "    self.queen_loc = dict()\n",
        "    self.initialize = False\n",
        "    self.chess_board = [[0]*self.N for _ in range(self.N)]\n",
        "\n",
        "  def add_queen(self):\n",
        "    if self.initialize == False:\n",
        "      number_Q = 0\n",
        "      while True:\n",
        "        flag = 0\n",
        "        r = np.random.randint(self.N)\n",
        "        c = np.random.randint(self.N)\n",
        "        #print(f'r:{r} c:{c}')\n",
        "        for q in self.queen_loc:\n",
        "          row, col = self.queen_loc[q]\n",
        "          if (r==row and c==col) or (c==col):\n",
        "            flag = 1\n",
        "        if flag == 0:\n",
        "          Q = f\"Q{number_Q}\"\n",
        "          if Q not in self.queen_loc:\n",
        "            self.queen_loc[Q] = []\n",
        "          self.queen_loc[Q].append(r)\n",
        "          self.queen_loc[Q].append(c)\n",
        "          self.chess_board[r][c] = Q\n",
        "          number_Q += 1\n",
        "        if number_Q == self.N:\n",
        "          break\n",
        "      self.initialize = True\n",
        "\n",
        "  def get_neighbor(self,row,col):\n",
        "    neighbor = []\n",
        "    #print('Hello')\n",
        "    if 0<=row-1<self.N and self.chess_board[row-1][col]==0:\n",
        "      neighbor.append([row-1,col])\n",
        "    if 0<=row+1<self.N and self.chess_board[row+1][col]==0:\n",
        "      neighbor.append([row+1,col])\n",
        "    return neighbor\n",
        "  def print_Queen(self):\n",
        "    print(self.chess_board)\n",
        "    for Q in self.queen_loc:\n",
        "      print(f'{Q}->{self.queen_loc[Q]}')\n"
      ],
      "metadata": {
        "id": "D-hvG1Gakawl"
      },
      "execution_count": 2,
      "outputs": []
    },
    {
      "cell_type": "code",
      "source": [
        "def conflict(r1,c1,r2,c2):\n",
        "    if r1 == r2:\n",
        "      return True\n",
        "    if c1 == c2:\n",
        "      return True\n",
        "    if r1+c1 == r2+c2:\n",
        "      return True\n",
        "    if r1-c1 == r2-c2:\n",
        "      return True\n",
        "    return False"
      ],
      "metadata": {
        "id": "4JvGTanYNc_f"
      },
      "execution_count": 3,
      "outputs": []
    },
    {
      "cell_type": "code",
      "source": [
        "def get_conflict(Q,state):\n",
        "  count = 0\n",
        "  for q in state:\n",
        "    if q is not  Q:\n",
        "      r1, c1 = state[Q]\n",
        "      r2, c2 = state[q]\n",
        "      if conflict(r1,c1,r2,c2):\n",
        "        count += 1\n",
        "  return count"
      ],
      "metadata": {
        "id": "hCIaGHOkNgKW"
      },
      "execution_count": 4,
      "outputs": []
    },
    {
      "cell_type": "code",
      "source": [
        "def calc_cost(state):\n",
        "    cost = 0\n",
        "    max = -999\n",
        "    maxQ = None\n",
        "    #print(state)\n",
        "    for Q in state:\n",
        "      q_cost = get_conflict(Q,state)\n",
        "      cost += q_cost\n",
        "      if q_cost>max:\n",
        "        max = q_cost\n",
        "        maxQ = Q\n",
        "    return cost//2,max,maxQ"
      ],
      "metadata": {
        "id": "jvX-wuarNit2"
      },
      "execution_count": 5,
      "outputs": []
    },
    {
      "cell_type": "code",
      "source": [
        "def goal_test(state):\n",
        "  if calc_cost(state)[0] == 0:\n",
        "    return True\n",
        "  else:\n",
        "    return False"
      ],
      "metadata": {
        "id": "Bn4WpV75Nlc3"
      },
      "execution_count": 6,
      "outputs": []
    },
    {
      "cell_type": "code",
      "source": [
        "def steepest_ascent_hill_climbing(queen_obj):\n",
        "    \"\"\"Solves the N-Queens problem using steepest ascent hill climbing.\"\"\"\n",
        "    state = queen_obj.queen_loc\n",
        "    current_cost, _, _ = calc_cost(state)\n",
        "\n",
        "    while not goal_test(state):\n",
        "        neighbors = []\n",
        "        for Q in state:\n",
        "            original_pos = state[Q][:]\n",
        "            best_cost = current_cost\n",
        "            best_position = original_pos[:]\n",
        "\n",
        "            # Move the queen in its column\n",
        "            for r in range(queen_obj.N):\n",
        "                if r != original_pos[0]:  # Skip current position\n",
        "                    state[Q][0] = r\n",
        "                    new_cost, _, _ = calc_cost(state)\n",
        "                    if new_cost < best_cost:  # Keep track of the best move\n",
        "                        best_cost = new_cost\n",
        "                        best_position = [r, original_pos[1]]\n",
        "\n",
        "            # Restore the best position for this queen\n",
        "            state[Q] = best_position\n",
        "\n",
        "        # Update the chessboard for display\n",
        "        queen_obj.queen_loc = state\n",
        "        queen_obj.chess_board = [[\"0\"] * queen_obj.N for _ in range(queen_obj.N)]\n",
        "        for Q, (r, c) in state.items():\n",
        "            queen_obj.chess_board[r][c] = Q\n",
        "\n",
        "        # Calculate the cost of the updated state\n",
        "        current_cost, _, _ = calc_cost(state)\n",
        "\n",
        "        # Stop if no improvement is possible\n",
        "        if current_cost == 0:\n",
        "            break\n",
        "\n",
        "    return state\n"
      ],
      "metadata": {
        "id": "Q-WqSS_nUPb9"
      },
      "execution_count": 7,
      "outputs": []
    },
    {
      "cell_type": "code",
      "source": [
        "queen = Queen(4)\n",
        "queen.add_queen()\n",
        "queen.print_Queen()"
      ],
      "metadata": {
        "colab": {
          "base_uri": "https://localhost:8080/"
        },
        "id": "7nnmU_a-mhIV",
        "outputId": "049a4576-744a-4d93-e581-406db997649c"
      },
      "execution_count": 8,
      "outputs": [
        {
          "output_type": "stream",
          "name": "stdout",
          "text": [
            "[[0, 0, 0, 'Q2'], [0, 0, 'Q0', 0], ['Q3', 0, 0, 0], [0, 'Q1', 0, 0]]\n",
            "Q0->[1, 2]\n",
            "Q1->[3, 1]\n",
            "Q2->[0, 3]\n",
            "Q3->[2, 0]\n"
          ]
        }
      ]
    },
    {
      "cell_type": "code",
      "source": [
        "# Solve the N-Queens problem\n",
        "solution = steepest_ascent_hill_climbing(queen)\n",
        "\n",
        "print(\"\\nSolution Found:\")\n",
        "queen.print_Queen()"
      ],
      "metadata": {
        "id": "ogRI7XwwUXh-"
      },
      "execution_count": null,
      "outputs": []
    }
  ]
}