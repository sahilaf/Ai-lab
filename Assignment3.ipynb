{
  "nbformat": 4,
  "nbformat_minor": 0,
  "metadata": {
    "colab": {
      "provenance": [],
      "gpuType": "T4",
      "mount_file_id": "1LSxRN5xSZMLuu_DewGGiyC47sieY_R4k",
      "authorship_tag": "ABX9TyOvAs80ZZLVaVEeSc0zWhoV",
      "include_colab_link": true
    },
    "kernelspec": {
      "name": "python3",
      "display_name": "Python 3"
    },
    "language_info": {
      "name": "python"
    },
    "accelerator": "GPU"
  },
  "cells": [
    {
      "cell_type": "markdown",
      "metadata": {
        "id": "view-in-github",
        "colab_type": "text"
      },
      "source": [
        "<a href=\"https://colab.research.google.com/github/sahilaf/Ai-lab/blob/main/Assignment3.ipynb\" target=\"_parent\"><img src=\"https://colab.research.google.com/assets/colab-badge.svg\" alt=\"Open In Colab\"/></a>"
      ]
    },
    {
      "cell_type": "code",
      "source": [
        "from google.colab import drive\n",
        "drive.mount('/content/drive')"
      ],
      "metadata": {
        "id": "OJdR5JFnf7gY",
        "colab": {
          "base_uri": "https://localhost:8080/"
        },
        "outputId": "a94a15a2-487d-4fa9-ff2d-1381878fb8f3"
      },
      "execution_count": 1,
      "outputs": [
        {
          "output_type": "stream",
          "name": "stdout",
          "text": [
            "Drive already mounted at /content/drive; to attempt to forcibly remount, call drive.mount(\"/content/drive\", force_remount=True).\n"
          ]
        }
      ]
    },
    {
      "cell_type": "code",
      "execution_count": 2,
      "metadata": {
        "id": "GnNASYk_bKgS"
      },
      "outputs": [],
      "source": [
        "import numpy as np\n",
        "import pandas as pd\n",
        "from matplotlib import pyplot as plt\n",
        "import random\n",
        "import math"
      ]
    },
    {
      "cell_type": "code",
      "source": [
        "PATH = '/content/drive/MyDrive/Data_set/creditcard_2023.csv'\n",
        "\n",
        "df_classification = pd.read_csv(PATH)"
      ],
      "metadata": {
        "id": "6nENuJK8gBpb"
      },
      "execution_count": 3,
      "outputs": []
    },
    {
      "cell_type": "code",
      "source": [
        "df_classification.head(8)"
      ],
      "metadata": {
        "colab": {
          "base_uri": "https://localhost:8080/",
          "height": 330
        },
        "id": "IzhLU9KxgCQx",
        "outputId": "97e83ae8-cee8-4c4e-a7d8-da76d8745367"
      },
      "execution_count": 4,
      "outputs": [
        {
          "output_type": "execute_result",
          "data": {
            "text/plain": [
              "         V1        V2        V3        V4        V5        V6        V7  \\\n",
              "0 -0.260648 -0.469648  2.496266 -0.083724  0.129681  0.732898  0.519014   \n",
              "1  0.985100 -0.356045  0.558056 -0.429654  0.277140  0.428605  0.406466   \n",
              "2 -0.260272 -0.949385  1.728538 -0.457986  0.074062  1.419481  0.743511   \n",
              "3 -0.152152 -0.508959  1.746840 -1.090178  0.249486  1.143312  0.518269   \n",
              "4 -0.206820 -0.165280  1.527053 -0.448293  0.106125  0.530549  0.658849   \n",
              "5  0.025302 -0.140514  1.191138 -0.707979  0.430490  0.458973  0.611050   \n",
              "6  1.016482 -0.397181  0.497868 -0.144463  0.331022  0.629243  0.431262   \n",
              "7 -0.051306 -0.007194  1.139941 -0.877880  0.684668  0.714326  0.892615   \n",
              "\n",
              "         V8        V9       V10  ...       V21       V22       V23       V24  \\\n",
              "0 -0.130006  0.727159  0.637735  ... -0.110552  0.217606 -0.134794  0.165959   \n",
              "1 -0.133118  0.347452  0.529808  ... -0.194936 -0.605761  0.079469 -0.577395   \n",
              "2 -0.095576 -0.261297  0.690708  ... -0.005020  0.702906  0.945045 -1.154666   \n",
              "3 -0.065130 -0.205698  0.575231  ... -0.146927 -0.038212 -0.214048 -1.893131   \n",
              "4 -0.212660  1.049921  0.968046  ... -0.106984  0.729727 -0.161666  0.312561   \n",
              "5 -0.092629  0.180811  0.451788  ... -0.187739 -0.538518 -0.050465 -0.631553   \n",
              "6 -0.134007  0.796159  0.557015  ... -0.171137 -0.287017 -0.178197 -1.297597   \n",
              "7 -0.908409  0.901938  1.258025  ...  0.620676 -0.920426  0.034660 -1.091527   \n",
              "\n",
              "        V25       V26       V27       V28    Amount  Class  \n",
              "0  0.126280 -0.434824 -0.081230 -0.151045  17982.10      0  \n",
              "1  0.190090  0.296503 -0.248052 -0.064512   6531.37      0  \n",
              "2 -0.605564 -0.312895 -0.300258 -0.244718   2513.54      0  \n",
              "3  1.003963 -0.515950 -0.165316  0.048424   5384.44      0  \n",
              "4 -0.414116  1.071126  0.023712  0.419117  14278.97      0  \n",
              "5 -0.456480  0.252670  0.066681  0.095812   6901.49      0  \n",
              "6  1.182503 -0.604228 -0.198163 -0.087619  18954.45      0  \n",
              "7 -0.742075 -0.104863 -1.382522 -2.748268  12298.23      0  \n",
              "\n",
              "[8 rows x 30 columns]"
            ],
            "text/html": [
              "\n",
              "  <div id=\"df-db997455-f869-4c75-b34c-ae8e7100c406\" class=\"colab-df-container\">\n",
              "    <div>\n",
              "<style scoped>\n",
              "    .dataframe tbody tr th:only-of-type {\n",
              "        vertical-align: middle;\n",
              "    }\n",
              "\n",
              "    .dataframe tbody tr th {\n",
              "        vertical-align: top;\n",
              "    }\n",
              "\n",
              "    .dataframe thead th {\n",
              "        text-align: right;\n",
              "    }\n",
              "</style>\n",
              "<table border=\"1\" class=\"dataframe\">\n",
              "  <thead>\n",
              "    <tr style=\"text-align: right;\">\n",
              "      <th></th>\n",
              "      <th>V1</th>\n",
              "      <th>V2</th>\n",
              "      <th>V3</th>\n",
              "      <th>V4</th>\n",
              "      <th>V5</th>\n",
              "      <th>V6</th>\n",
              "      <th>V7</th>\n",
              "      <th>V8</th>\n",
              "      <th>V9</th>\n",
              "      <th>V10</th>\n",
              "      <th>...</th>\n",
              "      <th>V21</th>\n",
              "      <th>V22</th>\n",
              "      <th>V23</th>\n",
              "      <th>V24</th>\n",
              "      <th>V25</th>\n",
              "      <th>V26</th>\n",
              "      <th>V27</th>\n",
              "      <th>V28</th>\n",
              "      <th>Amount</th>\n",
              "      <th>Class</th>\n",
              "    </tr>\n",
              "  </thead>\n",
              "  <tbody>\n",
              "    <tr>\n",
              "      <th>0</th>\n",
              "      <td>-0.260648</td>\n",
              "      <td>-0.469648</td>\n",
              "      <td>2.496266</td>\n",
              "      <td>-0.083724</td>\n",
              "      <td>0.129681</td>\n",
              "      <td>0.732898</td>\n",
              "      <td>0.519014</td>\n",
              "      <td>-0.130006</td>\n",
              "      <td>0.727159</td>\n",
              "      <td>0.637735</td>\n",
              "      <td>...</td>\n",
              "      <td>-0.110552</td>\n",
              "      <td>0.217606</td>\n",
              "      <td>-0.134794</td>\n",
              "      <td>0.165959</td>\n",
              "      <td>0.126280</td>\n",
              "      <td>-0.434824</td>\n",
              "      <td>-0.081230</td>\n",
              "      <td>-0.151045</td>\n",
              "      <td>17982.10</td>\n",
              "      <td>0</td>\n",
              "    </tr>\n",
              "    <tr>\n",
              "      <th>1</th>\n",
              "      <td>0.985100</td>\n",
              "      <td>-0.356045</td>\n",
              "      <td>0.558056</td>\n",
              "      <td>-0.429654</td>\n",
              "      <td>0.277140</td>\n",
              "      <td>0.428605</td>\n",
              "      <td>0.406466</td>\n",
              "      <td>-0.133118</td>\n",
              "      <td>0.347452</td>\n",
              "      <td>0.529808</td>\n",
              "      <td>...</td>\n",
              "      <td>-0.194936</td>\n",
              "      <td>-0.605761</td>\n",
              "      <td>0.079469</td>\n",
              "      <td>-0.577395</td>\n",
              "      <td>0.190090</td>\n",
              "      <td>0.296503</td>\n",
              "      <td>-0.248052</td>\n",
              "      <td>-0.064512</td>\n",
              "      <td>6531.37</td>\n",
              "      <td>0</td>\n",
              "    </tr>\n",
              "    <tr>\n",
              "      <th>2</th>\n",
              "      <td>-0.260272</td>\n",
              "      <td>-0.949385</td>\n",
              "      <td>1.728538</td>\n",
              "      <td>-0.457986</td>\n",
              "      <td>0.074062</td>\n",
              "      <td>1.419481</td>\n",
              "      <td>0.743511</td>\n",
              "      <td>-0.095576</td>\n",
              "      <td>-0.261297</td>\n",
              "      <td>0.690708</td>\n",
              "      <td>...</td>\n",
              "      <td>-0.005020</td>\n",
              "      <td>0.702906</td>\n",
              "      <td>0.945045</td>\n",
              "      <td>-1.154666</td>\n",
              "      <td>-0.605564</td>\n",
              "      <td>-0.312895</td>\n",
              "      <td>-0.300258</td>\n",
              "      <td>-0.244718</td>\n",
              "      <td>2513.54</td>\n",
              "      <td>0</td>\n",
              "    </tr>\n",
              "    <tr>\n",
              "      <th>3</th>\n",
              "      <td>-0.152152</td>\n",
              "      <td>-0.508959</td>\n",
              "      <td>1.746840</td>\n",
              "      <td>-1.090178</td>\n",
              "      <td>0.249486</td>\n",
              "      <td>1.143312</td>\n",
              "      <td>0.518269</td>\n",
              "      <td>-0.065130</td>\n",
              "      <td>-0.205698</td>\n",
              "      <td>0.575231</td>\n",
              "      <td>...</td>\n",
              "      <td>-0.146927</td>\n",
              "      <td>-0.038212</td>\n",
              "      <td>-0.214048</td>\n",
              "      <td>-1.893131</td>\n",
              "      <td>1.003963</td>\n",
              "      <td>-0.515950</td>\n",
              "      <td>-0.165316</td>\n",
              "      <td>0.048424</td>\n",
              "      <td>5384.44</td>\n",
              "      <td>0</td>\n",
              "    </tr>\n",
              "    <tr>\n",
              "      <th>4</th>\n",
              "      <td>-0.206820</td>\n",
              "      <td>-0.165280</td>\n",
              "      <td>1.527053</td>\n",
              "      <td>-0.448293</td>\n",
              "      <td>0.106125</td>\n",
              "      <td>0.530549</td>\n",
              "      <td>0.658849</td>\n",
              "      <td>-0.212660</td>\n",
              "      <td>1.049921</td>\n",
              "      <td>0.968046</td>\n",
              "      <td>...</td>\n",
              "      <td>-0.106984</td>\n",
              "      <td>0.729727</td>\n",
              "      <td>-0.161666</td>\n",
              "      <td>0.312561</td>\n",
              "      <td>-0.414116</td>\n",
              "      <td>1.071126</td>\n",
              "      <td>0.023712</td>\n",
              "      <td>0.419117</td>\n",
              "      <td>14278.97</td>\n",
              "      <td>0</td>\n",
              "    </tr>\n",
              "    <tr>\n",
              "      <th>5</th>\n",
              "      <td>0.025302</td>\n",
              "      <td>-0.140514</td>\n",
              "      <td>1.191138</td>\n",
              "      <td>-0.707979</td>\n",
              "      <td>0.430490</td>\n",
              "      <td>0.458973</td>\n",
              "      <td>0.611050</td>\n",
              "      <td>-0.092629</td>\n",
              "      <td>0.180811</td>\n",
              "      <td>0.451788</td>\n",
              "      <td>...</td>\n",
              "      <td>-0.187739</td>\n",
              "      <td>-0.538518</td>\n",
              "      <td>-0.050465</td>\n",
              "      <td>-0.631553</td>\n",
              "      <td>-0.456480</td>\n",
              "      <td>0.252670</td>\n",
              "      <td>0.066681</td>\n",
              "      <td>0.095812</td>\n",
              "      <td>6901.49</td>\n",
              "      <td>0</td>\n",
              "    </tr>\n",
              "    <tr>\n",
              "      <th>6</th>\n",
              "      <td>1.016482</td>\n",
              "      <td>-0.397181</td>\n",
              "      <td>0.497868</td>\n",
              "      <td>-0.144463</td>\n",
              "      <td>0.331022</td>\n",
              "      <td>0.629243</td>\n",
              "      <td>0.431262</td>\n",
              "      <td>-0.134007</td>\n",
              "      <td>0.796159</td>\n",
              "      <td>0.557015</td>\n",
              "      <td>...</td>\n",
              "      <td>-0.171137</td>\n",
              "      <td>-0.287017</td>\n",
              "      <td>-0.178197</td>\n",
              "      <td>-1.297597</td>\n",
              "      <td>1.182503</td>\n",
              "      <td>-0.604228</td>\n",
              "      <td>-0.198163</td>\n",
              "      <td>-0.087619</td>\n",
              "      <td>18954.45</td>\n",
              "      <td>0</td>\n",
              "    </tr>\n",
              "    <tr>\n",
              "      <th>7</th>\n",
              "      <td>-0.051306</td>\n",
              "      <td>-0.007194</td>\n",
              "      <td>1.139941</td>\n",
              "      <td>-0.877880</td>\n",
              "      <td>0.684668</td>\n",
              "      <td>0.714326</td>\n",
              "      <td>0.892615</td>\n",
              "      <td>-0.908409</td>\n",
              "      <td>0.901938</td>\n",
              "      <td>1.258025</td>\n",
              "      <td>...</td>\n",
              "      <td>0.620676</td>\n",
              "      <td>-0.920426</td>\n",
              "      <td>0.034660</td>\n",
              "      <td>-1.091527</td>\n",
              "      <td>-0.742075</td>\n",
              "      <td>-0.104863</td>\n",
              "      <td>-1.382522</td>\n",
              "      <td>-2.748268</td>\n",
              "      <td>12298.23</td>\n",
              "      <td>0</td>\n",
              "    </tr>\n",
              "  </tbody>\n",
              "</table>\n",
              "<p>8 rows × 30 columns</p>\n",
              "</div>\n",
              "    <div class=\"colab-df-buttons\">\n",
              "\n",
              "  <div class=\"colab-df-container\">\n",
              "    <button class=\"colab-df-convert\" onclick=\"convertToInteractive('df-db997455-f869-4c75-b34c-ae8e7100c406')\"\n",
              "            title=\"Convert this dataframe to an interactive table.\"\n",
              "            style=\"display:none;\">\n",
              "\n",
              "  <svg xmlns=\"http://www.w3.org/2000/svg\" height=\"24px\" viewBox=\"0 -960 960 960\">\n",
              "    <path d=\"M120-120v-720h720v720H120Zm60-500h600v-160H180v160Zm220 220h160v-160H400v160Zm0 220h160v-160H400v160ZM180-400h160v-160H180v160Zm440 0h160v-160H620v160ZM180-180h160v-160H180v160Zm440 0h160v-160H620v160Z\"/>\n",
              "  </svg>\n",
              "    </button>\n",
              "\n",
              "  <style>\n",
              "    .colab-df-container {\n",
              "      display:flex;\n",
              "      gap: 12px;\n",
              "    }\n",
              "\n",
              "    .colab-df-convert {\n",
              "      background-color: #E8F0FE;\n",
              "      border: none;\n",
              "      border-radius: 50%;\n",
              "      cursor: pointer;\n",
              "      display: none;\n",
              "      fill: #1967D2;\n",
              "      height: 32px;\n",
              "      padding: 0 0 0 0;\n",
              "      width: 32px;\n",
              "    }\n",
              "\n",
              "    .colab-df-convert:hover {\n",
              "      background-color: #E2EBFA;\n",
              "      box-shadow: 0px 1px 2px rgba(60, 64, 67, 0.3), 0px 1px 3px 1px rgba(60, 64, 67, 0.15);\n",
              "      fill: #174EA6;\n",
              "    }\n",
              "\n",
              "    .colab-df-buttons div {\n",
              "      margin-bottom: 4px;\n",
              "    }\n",
              "\n",
              "    [theme=dark] .colab-df-convert {\n",
              "      background-color: #3B4455;\n",
              "      fill: #D2E3FC;\n",
              "    }\n",
              "\n",
              "    [theme=dark] .colab-df-convert:hover {\n",
              "      background-color: #434B5C;\n",
              "      box-shadow: 0px 1px 3px 1px rgba(0, 0, 0, 0.15);\n",
              "      filter: drop-shadow(0px 1px 2px rgba(0, 0, 0, 0.3));\n",
              "      fill: #FFFFFF;\n",
              "    }\n",
              "  </style>\n",
              "\n",
              "    <script>\n",
              "      const buttonEl =\n",
              "        document.querySelector('#df-db997455-f869-4c75-b34c-ae8e7100c406 button.colab-df-convert');\n",
              "      buttonEl.style.display =\n",
              "        google.colab.kernel.accessAllowed ? 'block' : 'none';\n",
              "\n",
              "      async function convertToInteractive(key) {\n",
              "        const element = document.querySelector('#df-db997455-f869-4c75-b34c-ae8e7100c406');\n",
              "        const dataTable =\n",
              "          await google.colab.kernel.invokeFunction('convertToInteractive',\n",
              "                                                    [key], {});\n",
              "        if (!dataTable) return;\n",
              "\n",
              "        const docLinkHtml = 'Like what you see? Visit the ' +\n",
              "          '<a target=\"_blank\" href=https://colab.research.google.com/notebooks/data_table.ipynb>data table notebook</a>'\n",
              "          + ' to learn more about interactive tables.';\n",
              "        element.innerHTML = '';\n",
              "        dataTable['output_type'] = 'display_data';\n",
              "        await google.colab.output.renderOutput(dataTable, element);\n",
              "        const docLink = document.createElement('div');\n",
              "        docLink.innerHTML = docLinkHtml;\n",
              "        element.appendChild(docLink);\n",
              "      }\n",
              "    </script>\n",
              "  </div>\n",
              "\n",
              "\n",
              "<div id=\"df-a1bd8f41-2d2a-4201-bba1-ee7f4b67ab63\">\n",
              "  <button class=\"colab-df-quickchart\" onclick=\"quickchart('df-a1bd8f41-2d2a-4201-bba1-ee7f4b67ab63')\"\n",
              "            title=\"Suggest charts\"\n",
              "            style=\"display:none;\">\n",
              "\n",
              "<svg xmlns=\"http://www.w3.org/2000/svg\" height=\"24px\"viewBox=\"0 0 24 24\"\n",
              "     width=\"24px\">\n",
              "    <g>\n",
              "        <path d=\"M19 3H5c-1.1 0-2 .9-2 2v14c0 1.1.9 2 2 2h14c1.1 0 2-.9 2-2V5c0-1.1-.9-2-2-2zM9 17H7v-7h2v7zm4 0h-2V7h2v10zm4 0h-2v-4h2v4z\"/>\n",
              "    </g>\n",
              "</svg>\n",
              "  </button>\n",
              "\n",
              "<style>\n",
              "  .colab-df-quickchart {\n",
              "      --bg-color: #E8F0FE;\n",
              "      --fill-color: #1967D2;\n",
              "      --hover-bg-color: #E2EBFA;\n",
              "      --hover-fill-color: #174EA6;\n",
              "      --disabled-fill-color: #AAA;\n",
              "      --disabled-bg-color: #DDD;\n",
              "  }\n",
              "\n",
              "  [theme=dark] .colab-df-quickchart {\n",
              "      --bg-color: #3B4455;\n",
              "      --fill-color: #D2E3FC;\n",
              "      --hover-bg-color: #434B5C;\n",
              "      --hover-fill-color: #FFFFFF;\n",
              "      --disabled-bg-color: #3B4455;\n",
              "      --disabled-fill-color: #666;\n",
              "  }\n",
              "\n",
              "  .colab-df-quickchart {\n",
              "    background-color: var(--bg-color);\n",
              "    border: none;\n",
              "    border-radius: 50%;\n",
              "    cursor: pointer;\n",
              "    display: none;\n",
              "    fill: var(--fill-color);\n",
              "    height: 32px;\n",
              "    padding: 0;\n",
              "    width: 32px;\n",
              "  }\n",
              "\n",
              "  .colab-df-quickchart:hover {\n",
              "    background-color: var(--hover-bg-color);\n",
              "    box-shadow: 0 1px 2px rgba(60, 64, 67, 0.3), 0 1px 3px 1px rgba(60, 64, 67, 0.15);\n",
              "    fill: var(--button-hover-fill-color);\n",
              "  }\n",
              "\n",
              "  .colab-df-quickchart-complete:disabled,\n",
              "  .colab-df-quickchart-complete:disabled:hover {\n",
              "    background-color: var(--disabled-bg-color);\n",
              "    fill: var(--disabled-fill-color);\n",
              "    box-shadow: none;\n",
              "  }\n",
              "\n",
              "  .colab-df-spinner {\n",
              "    border: 2px solid var(--fill-color);\n",
              "    border-color: transparent;\n",
              "    border-bottom-color: var(--fill-color);\n",
              "    animation:\n",
              "      spin 1s steps(1) infinite;\n",
              "  }\n",
              "\n",
              "  @keyframes spin {\n",
              "    0% {\n",
              "      border-color: transparent;\n",
              "      border-bottom-color: var(--fill-color);\n",
              "      border-left-color: var(--fill-color);\n",
              "    }\n",
              "    20% {\n",
              "      border-color: transparent;\n",
              "      border-left-color: var(--fill-color);\n",
              "      border-top-color: var(--fill-color);\n",
              "    }\n",
              "    30% {\n",
              "      border-color: transparent;\n",
              "      border-left-color: var(--fill-color);\n",
              "      border-top-color: var(--fill-color);\n",
              "      border-right-color: var(--fill-color);\n",
              "    }\n",
              "    40% {\n",
              "      border-color: transparent;\n",
              "      border-right-color: var(--fill-color);\n",
              "      border-top-color: var(--fill-color);\n",
              "    }\n",
              "    60% {\n",
              "      border-color: transparent;\n",
              "      border-right-color: var(--fill-color);\n",
              "    }\n",
              "    80% {\n",
              "      border-color: transparent;\n",
              "      border-right-color: var(--fill-color);\n",
              "      border-bottom-color: var(--fill-color);\n",
              "    }\n",
              "    90% {\n",
              "      border-color: transparent;\n",
              "      border-bottom-color: var(--fill-color);\n",
              "    }\n",
              "  }\n",
              "</style>\n",
              "\n",
              "  <script>\n",
              "    async function quickchart(key) {\n",
              "      const quickchartButtonEl =\n",
              "        document.querySelector('#' + key + ' button');\n",
              "      quickchartButtonEl.disabled = true;  // To prevent multiple clicks.\n",
              "      quickchartButtonEl.classList.add('colab-df-spinner');\n",
              "      try {\n",
              "        const charts = await google.colab.kernel.invokeFunction(\n",
              "            'suggestCharts', [key], {});\n",
              "      } catch (error) {\n",
              "        console.error('Error during call to suggestCharts:', error);\n",
              "      }\n",
              "      quickchartButtonEl.classList.remove('colab-df-spinner');\n",
              "      quickchartButtonEl.classList.add('colab-df-quickchart-complete');\n",
              "    }\n",
              "    (() => {\n",
              "      let quickchartButtonEl =\n",
              "        document.querySelector('#df-a1bd8f41-2d2a-4201-bba1-ee7f4b67ab63 button');\n",
              "      quickchartButtonEl.style.display =\n",
              "        google.colab.kernel.accessAllowed ? 'block' : 'none';\n",
              "    })();\n",
              "  </script>\n",
              "</div>\n",
              "\n",
              "    </div>\n",
              "  </div>\n"
            ],
            "application/vnd.google.colaboratory.intrinsic+json": {
              "type": "dataframe",
              "variable_name": "df_classification"
            }
          },
          "metadata": {},
          "execution_count": 4
        }
      ]
    },
    {
      "cell_type": "code",
      "source": [
        "df_classification.shape\n"
      ],
      "metadata": {
        "colab": {
          "base_uri": "https://localhost:8080/"
        },
        "id": "asSdVACrgEbO",
        "outputId": "2b4a30e7-b177-4723-fb1a-d31e596bafee"
      },
      "execution_count": 5,
      "outputs": [
        {
          "output_type": "execute_result",
          "data": {
            "text/plain": [
              "(568630, 30)"
            ]
          },
          "metadata": {},
          "execution_count": 5
        }
      ]
    },
    {
      "cell_type": "code",
      "source": [
        "X = df_classification.drop(['Class'],axis=1)\n",
        "X.shape"
      ],
      "metadata": {
        "colab": {
          "base_uri": "https://localhost:8080/"
        },
        "id": "M1cOwJFagHIl",
        "outputId": "19a28098-7888-48ef-fb96-38f7b822fd79"
      },
      "execution_count": 6,
      "outputs": [
        {
          "output_type": "execute_result",
          "data": {
            "text/plain": [
              "(568630, 29)"
            ]
          },
          "metadata": {},
          "execution_count": 6
        }
      ]
    },
    {
      "cell_type": "code",
      "source": [
        "y = df_classification['Class']\n",
        "y.shape"
      ],
      "metadata": {
        "colab": {
          "base_uri": "https://localhost:8080/"
        },
        "id": "MLScWW0LgJRo",
        "outputId": "791dd0a2-896c-4e25-dbda-e6e67ff03dfa"
      },
      "execution_count": 7,
      "outputs": [
        {
          "output_type": "execute_result",
          "data": {
            "text/plain": [
              "(568630,)"
            ]
          },
          "metadata": {},
          "execution_count": 7
        }
      ]
    },
    {
      "cell_type": "code",
      "source": [
        "# Define X (features) and y (labels)\n",
        "X = df_classification.drop(['Class'], axis=1).values\n",
        "y = df_classification['Class'].values\n",
        "\n",
        "# Step 1: Shuffle and split the dataset into Training (70%), Validation (10%), and Test (20%)\n",
        "X_train, X_val, X_test = [], [], []\n",
        "y_train, y_val, y_test = [], [], []\n",
        "\n",
        "for a, b in zip(X, y):\n",
        "    R = random.random()  # Generate a random number in the range [0, 1]\n",
        "    if 0 <= R <= 0.7:\n",
        "        X_train.append(a)\n",
        "        y_train.append(b)\n",
        "    elif 0.7 < R <= 0.8:\n",
        "        X_val.append(a)\n",
        "        y_val.append(b)\n",
        "    else:\n",
        "        X_test.append(a)\n",
        "        y_test.append(b)\n",
        "\n",
        "# Convert lists to numpy arrays\n",
        "X_train = np.array(X_train)\n",
        "X_val = np.array(X_val)\n",
        "X_test = np.array(X_test)\n",
        "y_train = np.array(y_train)\n",
        "y_val = np.array(y_val)\n",
        "y_test = np.array(y_test)\n",
        "\n",
        "# Print the sizes of each split\n",
        "print(f\"Training set size: X_train = {X_train.shape}, y_train = {y_train.shape}\")\n",
        "print(f\"Validation set size: X_val = {X_val.shape}, y_val = {y_val.shape}\")\n",
        "print(f\"Test set size: X_test = {X_test.shape}, y_test = {y_test.shape}\")"
      ],
      "metadata": {
        "colab": {
          "base_uri": "https://localhost:8080/"
        },
        "id": "2OXojopuiryI",
        "outputId": "0e8784aa-0139-4cbd-9a09-d9cee0ffa66d"
      },
      "execution_count": 8,
      "outputs": [
        {
          "output_type": "stream",
          "name": "stdout",
          "text": [
            "Training set size: X_train = (398722, 29), y_train = (398722,)\n",
            "Validation set size: X_val = (56395, 29), y_val = (56395,)\n",
            "Test set size: X_test = (113513, 29), y_test = (113513,)\n"
          ]
        }
      ]
    },
    {
      "cell_type": "code",
      "source": [
        "# Define X (features) and y (labels)\n",
        "X = df_classification.drop(['Class'], axis=1).values\n",
        "y = df_classification['Class'].values\n",
        "\n",
        "# Step 1: Reduce the dataset size (e.g., use only 10% of the original data)\n",
        "reduction_factor = 0.1  # Use 10% of the original data\n",
        "sample_indices = np.random.choice(len(X), size=int(len(X) * reduction_factor), replace=False)\n",
        "X = X[sample_indices]\n",
        "y = y[sample_indices]\n",
        "\n",
        "# Step 2: Shuffle and split the reduced dataset into Training (70%), Validation (10%), and Test (20%)\n",
        "X_train, X_val, X_test = [], [], []\n",
        "y_train, y_val, y_test = [], [], []\n",
        "\n",
        "for a, b in zip(X, y):\n",
        "    R = random.random()  # Generate a random number in the range [0, 1]\n",
        "    if 0 <= R <= 0.7:\n",
        "        X_train.append(a)\n",
        "        y_train.append(b)\n",
        "    elif 0.7 < R <= 0.8:\n",
        "        X_val.append(a)\n",
        "        y_val.append(b)\n",
        "    else:\n",
        "        X_test.append(a)\n",
        "        y_test.append(b)\n",
        "\n",
        "# Convert lists to numpy arrays\n",
        "X_train = np.array(X_train)\n",
        "X_val = np.array(X_val)\n",
        "X_test = np.array(X_test)\n",
        "y_train = np.array(y_train)\n",
        "y_val = np.array(y_val)\n",
        "y_test = np.array(y_test)\n",
        "\n",
        "# Print the sizes of each split\n",
        "print(f\"Training set size: X_train = {X_train.shape}, y_train = {y_train.shape}\")\n",
        "print(f\"Validation set size: X_val = {X_val.shape}, y_val = {y_val.shape}\")\n",
        "print(f\"Test set size: X_test = {X_test.shape}, y_test = {y_test.shape}\")\n"
      ],
      "metadata": {
        "colab": {
          "base_uri": "https://localhost:8080/"
        },
        "id": "4vIQtRBCnvpF",
        "outputId": "92e3fcab-a4f3-44f4-9332-74b017aa097a"
      },
      "execution_count": 9,
      "outputs": [
        {
          "output_type": "stream",
          "name": "stdout",
          "text": [
            "Training set size: X_train = (39814, 29), y_train = (39814,)\n",
            "Validation set size: X_val = (5713, 29), y_val = (5713,)\n",
            "Test set size: X_test = (11336, 29), y_test = (11336,)\n"
          ]
        }
      ]
    },
    {
      "cell_type": "code",
      "source": [
        "# Step 2: Define KNN Classification Function\n",
        "def knn_predict(X_train, y_train, sample, k):\n",
        "    # Calculate Euclidean distances from the sample to all training points\n",
        "    distances = np.sqrt(np.sum((X_train - sample) ** 2, axis=1))\n",
        "    # Find indices of the k nearest neighbors\n",
        "    k_neighbors_idx = np.argsort(distances)[:k]\n",
        "    # Get the classes of the k nearest neighbors\n",
        "    k_neighbor_classes = y_train[k_neighbors_idx]\n",
        "    # Predict the majority class\n",
        "    predicted_class = np.bincount(k_neighbor_classes).argmax()\n",
        "    return predicted_class\n",
        "\n"
      ],
      "metadata": {
        "id": "uCob1ngdjQT3"
      },
      "execution_count": 10,
      "outputs": []
    },
    {
      "cell_type": "code",
      "source": [
        "\n",
        "# Step 3: Calculate Accuracy\n",
        "def calculate_accuracy(X_train, y_train, X_validation, y_validation, k):\n",
        "    correct_predictions = 0\n",
        "    for i in range(len(X_validation)):\n",
        "        predicted_class = knn_predict(X_train, y_train, X_validation[i], k)\n",
        "        if predicted_class == y_validation[i]:\n",
        "            correct_predictions += 1\n",
        "    accuracy = (correct_predictions / len(X_validation)) * 100\n",
        "    return accuracy\n"
      ],
      "metadata": {
        "id": "LsyFhkGpm7JY"
      },
      "execution_count": 11,
      "outputs": []
    },
    {
      "cell_type": "code",
      "source": [
        "# Step 4: Experiment with Different K Values\n",
        "k_values = [1, 3, 5, 10, 15]\n",
        "validation_accuracies = []\n",
        "\n",
        "for k in k_values:\n",
        "    accuracy = calculate_accuracy(X_train, y_train, X_val, y_val, k)\n",
        "    validation_accuracies.append(accuracy)\n",
        "    print(f\"K = {k}, Validation Accuracy = {accuracy:.2f}%\")"
      ],
      "metadata": {
        "colab": {
          "base_uri": "https://localhost:8080/"
        },
        "id": "VBsvhK9bm9NA",
        "outputId": "42922105-4bc4-4fc5-b97a-ee974adff55b"
      },
      "execution_count": 12,
      "outputs": [
        {
          "output_type": "stream",
          "name": "stdout",
          "text": [
            "K = 1, Validation Accuracy = 85.79%\n",
            "K = 3, Validation Accuracy = 85.75%\n",
            "K = 5, Validation Accuracy = 83.77%\n",
            "K = 10, Validation Accuracy = 77.19%\n",
            "K = 15, Validation Accuracy = 73.43%\n"
          ]
        }
      ]
    },
    {
      "cell_type": "code",
      "source": [
        "# Step 5: Plot Validation Accuracies\n",
        "plt.figure(figsize=(8, 5))\n",
        "plt.plot(k_values, validation_accuracies, marker='o', color='b')\n",
        "plt.title(\"Validation Accuracy vs K\")\n",
        "plt.xlabel(\"K\")\n",
        "plt.ylabel(\"Validation Accuracy (%)\")\n",
        "plt.grid()\n",
        "plt.show()"
      ],
      "metadata": {
        "colab": {
          "base_uri": "https://localhost:8080/",
          "height": 487
        },
        "id": "Y8cGLK9xm_Bd",
        "outputId": "33cfb42a-57ed-475d-8de2-ea892625e65c"
      },
      "execution_count": 13,
      "outputs": [
        {
          "output_type": "display_data",
          "data": {
            "text/plain": [
              "<Figure size 800x500 with 1 Axes>"
            ],
            "image/png": "[encoded data removed]"
          },
          "metadata": {}
        }
      ]
    },
    {
      "cell_type": "code",
      "source": [
        "# Step 6: Find the Best K and Calculate Test Accuracy\n",
        "best_k = k_values[np.argmax(validation_accuracies)]\n",
        "print(f\"\\nBest K = {best_k}, Validation Accuracy = {max(validation_accuracies):.2f}%\")\n",
        "\n",
        "test_accuracy = calculate_accuracy(X_train, y_train, X_test, y_test, best_k)\n",
        "print(f\"\\nTest Accuracy using Best K = {best_k}: {test_accuracy:.2f}%\")"
      ],
      "metadata": {
        "colab": {
          "base_uri": "https://localhost:8080/"
        },
        "id": "yHGmcFaknBpI",
        "outputId": "3896a665-cd06-402b-e278-987c21510e2f"
      },
      "execution_count": 14,
      "outputs": [
        {
          "output_type": "stream",
          "name": "stdout",
          "text": [
            "\n",
            "Best K = 1, Validation Accuracy = 85.79%\n",
            "\n",
            "Test Accuracy using Best K = 1: 85.73%\n"
          ]
        }
      ]
    }
  ]
}