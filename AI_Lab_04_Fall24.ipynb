{
  "nbformat": 4,
  "nbformat_minor": 0,
  "metadata": {
    "colab": {
      "provenance": [],
      "include_colab_link": true
    },
    "kernelspec": {
      "name": "python3",
      "display_name": "Python 3"
    },
    "language_info": {
      "name": "python"
    }
  },
  "cells": [
    {
      "cell_type": "markdown",
      "metadata": {
        "id": "view-in-github",
        "colab_type": "text"
      },
      "source": [
        "<a href=\"https://colab.research.google.com/github/sahilaf/Ai-lab/blob/main/AI_Lab_04_Fall24.ipynb\" target=\"_parent\"><img src=\"https://colab.research.google.com/assets/colab-badge.svg\" alt=\"Open In Colab\"/></a>"
      ]
    },
    {
      "cell_type": "code",
      "execution_count": null,
      "metadata": {
        "id": "5BgA6Po_uPYP"
      },
      "outputs": [],
      "source": [
        "class Graph:\n",
        "    def __init__(self):\n",
        "        self.graph = dict()\n",
        "\n",
        "    def addEdge(self, src, dst, cost):\n",
        "        if src not in self.graph:\n",
        "            self.graph[src] = []\n",
        "        if dst not in self.graph:\n",
        "            self.graph[dst] = []\n",
        "\n",
        "        self.graph[src].append((dst, int(cost)))\n",
        "        #self.graph[dst].append((src, int(cost)))\n",
        "\n",
        "    def printGraph(self):\n",
        "        for source, destination in self.graph.items():\n",
        "            print(f\"{source}-->{destination}\")\n"
      ]
    },
    {
      "cell_type": "markdown",
      "source": [
        "### Manually add edge"
      ],
      "metadata": {
        "id": "RhHp0o8BvTdM"
      }
    },
    {
      "cell_type": "code",
      "source": [
        "g = Graph()\n",
        "g.addEdge('A','B',10)\n",
        "g.addEdge('A','C',5)\n",
        "g.addEdge('B','E',3)\n",
        "g.addEdge('B','D',2)\n",
        "g.addEdge('C','G',2)\n",
        "g.addEdge('C','F',4)\n",
        "g.addEdge('C','D',7)\n",
        "g.addEdge('F','G',3)\n",
        "g.printGraph()"
      ],
      "metadata": {
        "colab": {
          "base_uri": "https://localhost:8080/"
        },
        "id": "ykeNrsVDuvcw",
        "outputId": "8704dadf-6f6f-4062-ec8b-7d747e3e064f"
      },
      "execution_count": null,
      "outputs": [
        {
          "output_type": "stream",
          "name": "stdout",
          "text": [
            "A-->[('B', 10), ('C', 5)]\n",
            "B-->[('E', 3), ('D', 2)]\n",
            "C-->[('G', 2), ('F', 4), ('D', 7)]\n",
            "E-->[]\n",
            "D-->[]\n",
            "G-->[]\n",
            "F-->[('G', 3)]\n"
          ]
        }
      ]
    },
    {
      "cell_type": "markdown",
      "source": [
        "### add edge using input() function"
      ],
      "metadata": {
        "id": "xgbw9mGYvWQS"
      }
    },
    {
      "cell_type": "code",
      "source": [
        "g = Graph()\n",
        "\n",
        "nodes, edges = input().split()\n",
        "\n",
        "for _ in range(int(edges)):\n",
        "  node1, node2, cost = input().split()\n",
        "  g.addEdge(node1, node2, cost)\n",
        "\n",
        "g.printGraph()"
      ],
      "metadata": {
        "colab": {
          "base_uri": "https://localhost:8080/"
        },
        "id": "YwmsmpNcu46u",
        "outputId": "53a2da7a-eae7-444b-a116-10c912c67a3d"
      },
      "execution_count": null,
      "outputs": [
        {
          "output_type": "stream",
          "name": "stdout",
          "text": [
            "7 8\n",
            "A B 10\n",
            "B E 3\n",
            "C A 5\n",
            "C D 7\n",
            "C G 2\n",
            "D B 2\n",
            "F C 4\n",
            "F G 3\n",
            "A-->[('B', 10)]\n",
            "B-->[('E', 3)]\n",
            "E-->[]\n",
            "C-->[('A', 5), ('D', 7), ('G', 2)]\n",
            "D-->[('B', 2)]\n",
            "G-->[]\n",
            "F-->[('C', 4), ('G', 3)]\n"
          ]
        }
      ]
    },
    {
      "cell_type": "markdown",
      "source": [
        "### BFS"
      ],
      "metadata": {
        "id": "YAy7hnFmwTGy"
      }
    },
    {
      "cell_type": "code",
      "source": [
        "class Graph:\n",
        "    def __init__(self):\n",
        "        self.graph = dict()\n",
        "\n",
        "    def addEdge(self, src, dst, cost):\n",
        "        if src not in self.graph:\n",
        "            self.graph[src] = []\n",
        "        if dst not in self.graph:\n",
        "            self.graph[dst] = []\n",
        "\n",
        "        self.graph[src].append((dst, int(cost)))\n",
        "        self.graph[dst].append((src, int(cost)))\n",
        "\n",
        "    def BFS(self,src):\n",
        "      open = set()\n",
        "      visited = set()\n",
        "      traversal = list()\n",
        "      queue = list()\n",
        "\n",
        "      queue.append(src)\n",
        "      open.add(src)\n",
        "\n",
        "      while queue:\n",
        "        u = queue.pop(0)\n",
        "        if u not in visited:\n",
        "          visited.add(u)\n",
        "          traversal.append(u)\n",
        "\n",
        "\n",
        "        for v,cost in self.graph[u]:\n",
        "          if v not in open:\n",
        "            open.add(v)\n",
        "            queue.append(v)\n",
        "      return traversal\n",
        "\n",
        "    def printGraph(self):\n",
        "        for source, destination in self.graph.items():\n",
        "            print(f\"{source}-->{destination}\")\n"
      ],
      "metadata": {
        "id": "OsClmWrbwXzZ"
      },
      "execution_count": null,
      "outputs": []
    },
    {
      "cell_type": "markdown",
      "source": [
        "###add edge using file"
      ],
      "metadata": {
        "id": "YmGFHJ4bv5p7"
      }
    },
    {
      "cell_type": "code",
      "source": [
        "g = Graph()\n",
        "\n",
        "with open(\"/content/input.txt\") as f:\n",
        "  lines = f.readlines()\n",
        "\n",
        "nodes, edges = lines[0].split()\n",
        "\n",
        "    # first line is number of nodes and edges,\n",
        "    # pair of nodes starts from second line\n",
        "for i in range(1, len(lines)):\n",
        "  node1, node2, cost = lines[i].split()\n",
        "  g.addEdge(node1, node2, int(cost))\n",
        "\n",
        "g.printGraph()"
      ],
      "metadata": {
        "id": "pqEBQAqVvm1O",
        "colab": {
          "base_uri": "https://localhost:8080/"
        },
        "outputId": "4a38a39a-8405-48cf-fc61-360630125d20"
      },
      "execution_count": null,
      "outputs": [
        {
          "output_type": "stream",
          "name": "stdout",
          "text": [
            "A-->[('B', 10), ('C', 5)]\n",
            "B-->[('A', 10), ('E', 3), ('D', 2)]\n",
            "C-->[('A', 5), ('D', 7), ('F', 4), ('G', 2)]\n",
            "E-->[('B', 3)]\n",
            "D-->[('B', 2), ('C', 7)]\n",
            "F-->[('C', 4), ('G', 3)]\n",
            "G-->[('C', 2), ('F', 3)]\n"
          ]
        }
      ]
    },
    {
      "cell_type": "code",
      "source": [
        "print(g.BFS('G'))"
      ],
      "metadata": {
        "colab": {
          "base_uri": "https://localhost:8080/"
        },
        "id": "IdzrRCeHeDwr",
        "outputId": "b7962e42-e96e-45dc-8256-00f6300a8358"
      },
      "execution_count": null,
      "outputs": [
        {
          "output_type": "stream",
          "name": "stdout",
          "text": [
            "['G', 'C', 'F', 'A', 'D', 'B', 'E']\n"
          ]
        }
      ]
    },
    {
      "cell_type": "markdown",
      "source": [
        "### DFS"
      ],
      "metadata": {
        "id": "mj3fxpxL17lw"
      }
    },
    {
      "cell_type": "code",
      "source": [
        "class Graph:\n",
        "    def __init__(self):\n",
        "        self.graph = dict()\n",
        "\n",
        "    def addEdge(self, src, dst, cost):\n",
        "        if src not in self.graph:\n",
        "            self.graph[src] = []\n",
        "        if dst not in self.graph:\n",
        "            self.graph[dst] = []\n",
        "\n",
        "        self.graph[src].append((dst, int(cost)))\n",
        "        self.graph[dst].append((src, int(cost)))\n",
        "\n",
        "    def DFS(self,src,visited,traversal):\n",
        "      if src not in visited:\n",
        "        traversal.append(src)\n",
        "        visited.add(src)\n",
        "\n",
        "        for dst,cost in self.graph[src]:\n",
        "          if dst not in visited:\n",
        "            self.DFS(dst,visited,traversal)\n",
        "      return traversal\n",
        "\n",
        "    def printGraph(self):\n",
        "        for source, destination in self.graph.items():\n",
        "            print(f\"{source}-->{destination}\")\n"
      ],
      "metadata": {
        "id": "pBdnvYZT19P4"
      },
      "execution_count": null,
      "outputs": []
    },
    {
      "cell_type": "code",
      "source": [
        "g = Graph()\n",
        "with open(\"/content/input.txt\") as f:\n",
        "  lines = f.readlines()\n",
        "\n",
        "nodes, edges = lines[0].split()\n",
        "\n",
        "    # first line is number of nodes and edges,\n",
        "    # pair of nodes starts from second line\n",
        "for i in range(1, len(lines)):\n",
        "  node1, node2, cost = lines[i].split()\n",
        "  g.addEdge(node1, node2, int(cost))\n",
        "visited = set()\n",
        "traversal = list()\n",
        "\n",
        "g.DFS('A',visited,traversal)"
      ],
      "metadata": {
        "colab": {
          "base_uri": "https://localhost:8080/"
        },
        "id": "lxa1xhbEezCK",
        "outputId": "921e4957-4fba-487e-9cb2-bd4588d06f1e"
      },
      "execution_count": null,
      "outputs": [
        {
          "output_type": "execute_result",
          "data": {
            "text/plain": [
              "['A', 'B', 'E', 'D', 'C', 'F', 'G']"
            ]
          },
          "metadata": {},
          "execution_count": 17
        }
      ]
    },
    {
      "cell_type": "markdown",
      "source": [
        "### Dijkstra's shortest path"
      ],
      "metadata": {
        "id": "U_8Y8kCE36z1"
      }
    },
    {
      "cell_type": "code",
      "source": [],
      "metadata": {
        "id": "bAFC1Y5s3_Wu"
      },
      "execution_count": null,
      "outputs": []
    },
    {
      "cell_type": "markdown",
      "source": [
        "### Astar Search"
      ],
      "metadata": {
        "id": "iaaWk_GV4JiN"
      }
    },
    {
      "cell_type": "code",
      "source": [
        "from queue import PriorityQueue"
      ],
      "metadata": {
        "id": "PtGBe6sygyZT"
      },
      "execution_count": null,
      "outputs": []
    },
    {
      "cell_type": "code",
      "source": [
        "class Graph:\n",
        "    def __init__(self):\n",
        "        self.graph = dict()\n",
        "\n",
        "    def addEdge(self, src, dst, cost):\n",
        "        if src not in self.graph:\n",
        "            self.graph[src] = []\n",
        "        if dst not in self.graph:\n",
        "            self.graph[dst] = []\n",
        "\n",
        "        self.graph[src].append([dst, int(cost)])\n",
        "        self.graph[dst].append([src, int(cost)])\n",
        "\n",
        "    def AStar(self,start,goal,heuristic):\n",
        "      pq = PriorityQueue()\n",
        "      f_score = {start:0+heuristic[start]}\n",
        "      pq.put((f_score[start],start))\n",
        "\n",
        "      g_score = {start:0} #track actual cost\n",
        "      parent = {start:None} #track parent of each node\n",
        "      visited = set() # track visited node\n",
        "      while not pq.empty():\n",
        "        current_node = pq.get()[1]\n",
        "\n",
        "        if current_node == goal:\n",
        "          return self.__getPath(parent,current_node)\n",
        "        if current_node in visited:\n",
        "          continue\n",
        "        visited.add(current_node)\n",
        "        for neighbor in self.graph[current_node]:\n",
        "            if neighbor[0] not in visited:\n",
        "\n",
        "              parent[neighbor[0]] = current_node\n",
        "              g_score[neighbor[0]] = int(g_score[current_node])+int(neighbor[1])\n",
        "              f_score[neighbor[0]] = g_score[neighbor[0]]+heuristic[neighbor[0]]\n",
        "              pq.put((f_score[neighbor[0]],neighbor[0]))\n",
        "              print(f\"Node:{neighbor} parent:{parent[neighbor[0]]} f:{f_score[neighbor[0]]}\")\n",
        "\n",
        "\n",
        "    def __getPath(self,parent,node):\n",
        "      path = [node]\n",
        "      current_node = node\n",
        "\n",
        "      while parent[current_node] is not None:\n",
        "        current_node = parent[current_node]\n",
        "        path.append(current_node)\n",
        "\n",
        "      return list(reversed(path))\n",
        "\n",
        "    def printGraph(self):\n",
        "        for source, destination in self.graph.items():\n",
        "            print(f\"{source}-->{destination}\")\n"
      ],
      "metadata": {
        "id": "vBGUadfC4RYV"
      },
      "execution_count": null,
      "outputs": []
    },
    {
      "cell_type": "code",
      "source": [
        "g = Graph()\n",
        "\n",
        "with open(\"input.txt\") as f:\n",
        "  lines = f.readlines()\n",
        "for l in lines:\n",
        "  s, d, gn = l.split()\n",
        "  g.addEdge(s, d, int(gn))\n",
        "\n",
        "g.printGraph()"
      ],
      "metadata": {
        "id": "XfVSdaWMh88b"
      },
      "execution_count": null,
      "outputs": []
    },
    {
      "cell_type": "code",
      "source": [
        "hn = {}\n",
        "with open(\"heuristics.txt\") as f:\n",
        "  lines = f.readlines()\n",
        "for l in lines:\n",
        "  n, h = l.split()\n",
        "  hn[n] = int(h)\n",
        "print(hn)"
      ],
      "metadata": {
        "id": "Z4eTSUGHh97C"
      },
      "execution_count": null,
      "outputs": []
    },
    {
      "cell_type": "code",
      "source": [
        "path = g.AStar('Arad','Bucharest',hn)"
      ],
      "metadata": {
        "id": "gUwzxcBAiCyM"
      },
      "execution_count": null,
      "outputs": []
    },
    {
      "cell_type": "code",
      "source": [
        "print(path)"
      ],
      "metadata": {
        "id": "YiJgSlzziDo6"
      },
      "execution_count": null,
      "outputs": []
    }
  ]
}